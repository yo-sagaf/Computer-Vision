{
 "cells": [
  {
   "cell_type": "markdown",
   "metadata": {},
   "source": [
    "# Computer Vision Sheet 1"
   ]
  },
  {
   "cell_type": "markdown",
   "metadata": {},
   "source": [
    "Dependencies"
   ]
  },
  {
   "cell_type": "code",
   "execution_count": 10,
   "metadata": {},
   "outputs": [],
   "source": [
    "import cv2 as cv\n",
    "import numpy as np\n",
    "import scipy.stats as st\n",
    "from matplotlib import pyplot as plt\n",
    "import random\n",
    "import time\n",
    "import sys\n",
    "import math\n",
    "\n",
    "random.seed(time.time)"
   ]
  },
  {
   "cell_type": "markdown",
   "metadata": {},
   "source": [
    "Execute the following code snippet before proceeding. It contains the helper functions used in the code."
   ]
  },
  {
   "cell_type": "code",
   "execution_count": 11,
   "metadata": {},
   "outputs": [],
   "source": [
    "def displayImg(winName, img):\n",
    "    \"\"\" Helper Function to display images\n",
    "    arguments:\n",
    "    winName -- windows name\n",
    "    img -- input image\n",
    "    \"\"\"\n",
    "    cv.imshow(winName, img)\n",
    "    cv.waitKey(0)\n",
    "\n",
    "\n",
    "def computeIntegral(srcImg):\n",
    "    \"\"\" Helper function to compute an integral image\n",
    "    arguments:\n",
    "    srcImg -- input Image\n",
    "    \"\"\"\n",
    "    intImg = np.zeros(srcImg.shape, dtype=float)\n",
    "    for y in range(srcImg.shape[0]):\n",
    "        for x in range(srcImg.shape[1]):\n",
    "            if x == 0 and y == 0:\n",
    "                intImg[y, x] = srcImg[y, x]\n",
    "            elif x == 0 and y > 0:\n",
    "                intImg[y, x] = srcImg[y, x] + intImg[y-1, x]\n",
    "            elif y == 0 and x > 0:\n",
    "                intImg[y, x] = srcImg[y, x] + intImg[y, x-1]\n",
    "            else:\n",
    "                intImg[y, x] = srcImg[y, x] + intImg[y, x-1] + \\\n",
    "                    intImg[y-1, x] - intImg[y-1, x-1]\n",
    "    return intImg\n",
    "\n",
    "# The following function is inspired from the OpenCV Tutorials of histogram equalization\n",
    "def customEqualizeHist(srcImg):\n",
    "    \"\"\" Helper function to equalize histogram of an image\n",
    "    arguments:\n",
    "    srcImg -- input Image\n",
    "    \"\"\"\n",
    "    hist, _ = np.histogram(srcImg.ravel(), 256, [0, 256])\n",
    "    cumHist = hist.cumsum()\n",
    "\n",
    "    maxVal = cumHist[cumHist > 0].max()\n",
    "    minVal = cumHist[cumHist > 0].min()\n",
    "\n",
    "    transformedHist = ((cumHist[cumHist > 0] - minVal)\n",
    "                       * 255/(maxVal - minVal)).astype('uint8')\n",
    "\n",
    "    plt.plot(hist, color='r')\n",
    "    plt.plot(transformedHist, color='b')\n",
    "    plt.show()\n",
    "\n",
    "    return transformedHist[srcImg]\n",
    "\n",
    "\n",
    "def computeGaussianKernel(ksize, sigmaX, sigmaY):\n",
    "    \"\"\" Helper function to compute a Gaussian Kernel\n",
    "    arguments:\n",
    "    ksize -- Kernel Size\n",
    "    sigmaX -- standard deviation along X axis\n",
    "    sigmaY -- standard deviation along Y axis\n",
    "    \"\"\"\n",
    "    kernel = np.zeros((ksize, ksize), dtype=np.float64)\n",
    "\n",
    "    for i in range(ksize):\n",
    "        x = abs(i - math.floor(ksize / 2))\n",
    "        for j in range(ksize):\n",
    "            y = abs(j - math.floor(ksize / 2))\n",
    "            factor = -(x * x + y * y) / (2 * sigmaX * sigmaY)\n",
    "            kernel[i, j] = (1./(2 * math.pi * sigmaX * sigmaY)\n",
    "                            ) * math.exp(factor)\n",
    "\n",
    "    return kernel\n",
    "\n",
    "\n",
    "def separateFilter(srcKernel, srcImg):\n",
    "    \"\"\" Helper function to separate filters based on separability condition\n",
    "    arguments:\n",
    "    srcKernel -- input Kernel\n",
    "    srcImg -- input Image\n",
    "    \"\"\"\n",
    "    U, W, Vt = np.linalg.svd(srcKernel)\n",
    "    rank = np.linalg.matrix_rank(srcKernel)\n",
    "    if rank == 1:\n",
    "        sepKernelX = math.sqrt(W[0]) * U[:, 0]\n",
    "        sepKernelY = math.sqrt(W[0]) * Vt[:, 0]\n",
    "        filteredSepImg = cv.sepFilter2D(grayImg, -1, sepKernelX, sepKernelY)\n",
    "    else:\n",
    "        sepKernel = W[0] * U[:, 0] * Vt[:, 0]\n",
    "        filteredSepImg = cv.sepFilter2D(grayImg, -1, sepKernel, sepKernel)\n",
    "    return filteredSepImg"
   ]
  },
  {
   "cell_type": "markdown",
   "metadata": {},
   "source": [
    "Run the following code snippet before proceeding."
   ]
  },
  {
   "cell_type": "code",
   "execution_count": 12,
   "metadata": {},
   "outputs": [],
   "source": [
    "origImg = cv.imread('../images/bonn.png')\n",
    "displayImg('Original Image', origImg)\n",
    "\n",
    "cols = origImg.shape[1]\n",
    "rows = origImg.shape[0]\n",
    "\n",
    "grayImg = cv.cvtColor(origImg, cv.COLOR_BGR2GRAY).astype('float64')\n",
    "grayImg /= 255.0\n",
    "displayImg('Gray Image', grayImg)\n",
    "\n",
    "cv.destroyAllWindows()"
   ]
  },
  {
   "cell_type": "markdown",
   "metadata": {},
   "source": [
    "Task 1: Rectangles and Integral Images"
   ]
  },
  {
   "cell_type": "code",
   "execution_count": 13,
   "metadata": {},
   "outputs": [
    {
     "name": "stdout",
     "output_type": "stream",
     "text": [
      "Task 1:\n",
      "-------------------------------------------------------------------------\n",
      "1b - i: Mean value without using function integral: 125.25414583333331\n",
      "1b - ii: Mean value using OpenCV function integral: 124.75484722222235\n",
      "1b - iii: Mean value using custom function integral: 125.25414583332685\n",
      "-------------------------------------------------------------------------\n",
      "1c) Time taken: 0.11 seconds\n",
      "-------------------------------------------------------------------------\n",
      "Without Integral | OpenCV Integral | Custom Integral\n",
      "[[ 47.36084698 |  46.61101853 |  47.36084698] |\n",
      " [143.11538085 | 140.6152338  | 143.11538085] |\n",
      " [116.18400157 | 114.29134399 | 116.18400157] |\n",
      " [138.5721988  | 137.03705519 | 138.5721988 ] |\n",
      " [155.8930497  | 152.74179002 | 155.8930497 ] |\n",
      " [130.05087736 | 128.84677973 | 130.05087736] |\n",
      " [127.91098912 | 125.3138908  | 127.91098912] |\n",
      " [ 58.53984903 |  58.06813058 |  58.53984903] |\n",
      " [ 58.91206744 |  57.880796   |  58.91206744] |\n",
      " [125.43956475 | 123.03999608 | 125.43956475]]\n"
     ]
    }
   ],
   "source": [
    "print('Task 1:')\n",
    "\n",
    "# 1a\n",
    "intImg = computeIntegral(grayImg)\n",
    "displayImg('Integral Image', intImg)\n",
    "\n",
    "print('-------------------------------------------------------------------------')\n",
    "\n",
    "# 1b - i\n",
    "meanPixelVal = (np.sum(grayImg) * 255.0)/(cols * rows)\n",
    "print('1b - i: Mean value without using function integral: ' + str(meanPixelVal))\n",
    "\n",
    "# 1b - ii\n",
    "intImg2 = cv.integral(grayImg)\n",
    "meanPixelVal2 = (intImg2[rows-1, cols-1] * 255.0) / (cols * rows)\n",
    "print('1b - ii: Mean value using OpenCV function integral: ' + str(meanPixelVal2))\n",
    "\n",
    "# 1b - iii\n",
    "meanPixelVal3 = (intImg[rows-1, cols-1] * 255.0) / (cols * rows)\n",
    "print('1b - iii: Mean value using custom function integral: ' + str(meanPixelVal3))\n",
    "print('-------------------------------------------------------------------------')\n",
    "\n",
    "# 1c\n",
    "meanGrayVals = np.zeros((10,3), dtype = float)\n",
    "start_time = time.time()\n",
    "for i in range(10):\n",
    "    ry = random.randint(99,rows-101)\n",
    "    rx = random.randint(99,cols-101)\n",
    "    randSquarePatch = grayImg[ry:ry+101, rx:rx+101]\n",
    "\n",
    "    meanGrayVals[i, 0] = (np.sum(randSquarePatch) * 255.0) / randSquarePatch.size\n",
    "\n",
    "    intSquarePatch = cv.integral(randSquarePatch)\n",
    "    meanGrayVals[i, 1] = (intSquarePatch[randSquarePatch.shape[0]-1, randSquarePatch.shape[1]-1] * 255.0) / randSquarePatch.size\n",
    "\n",
    "    intSquarePatch = computeIntegral(randSquarePatch)\n",
    "    meanGrayVals[i, 2] = (intSquarePatch[randSquarePatch.shape[0]-1, randSquarePatch.shape[1]-1] * 255.0) / randSquarePatch.size\n",
    "\n",
    "end_time = time.time()\n",
    "print('1c) Time taken: ' + str(round(end_time - start_time, 3)) + ' seconds')\n",
    "print('-------------------------------------------------------------------------')\n",
    "print(\"Without Integral | OpenCV Integral | Custom Integral\")\n",
    "print(np.array2string(meanGrayVals, separator=' | '))\n",
    "\n",
    "cv.destroyAllWindows()"
   ]
  },
  {
   "cell_type": "markdown",
   "metadata": {},
   "source": [
    "Task 2: Histogram Equalization"
   ]
  },
  {
   "cell_type": "code",
   "execution_count": 14,
   "metadata": {},
   "outputs": [
    {
     "name": "stdout",
     "output_type": "stream",
     "text": [
      "Task 2:\n"
     ]
    },
    {
     "data": {
      "image/png": "[encoded data removed]",
      "text/plain": [
       "<Figure size 432x288 with 1 Axes>"
      ]
     },
     "metadata": {
      "needs_background": "light"
     },
     "output_type": "display_data"
    }
   ],
   "source": [
    "print('Task 2:')\n",
    "# 2a\n",
    "equalizedImg = cv.equalizeHist((grayImg*255.0).astype('uint8'))\n",
    "displayImg('Default Equalization', equalizedImg)\n",
    "\n",
    "# 2b\n",
    "displayImg('Custom Equalization', customEqualizeHist((grayImg*255.0).astype('uint8')))\n",
    "\n",
    "cv.destroyAllWindows()"
   ]
  },
  {
   "cell_type": "markdown",
   "metadata": {},
   "source": [
    "Task 3: Proof that convolutions are in the continuous case associative.\n",
    "\n",
    "Let f and g be two functions, the convolution of which is,\n",
    "$$(f * g)(t)=\\int_{0}^{t} f(s) g(t-s) ds$$\n",
    "\n",
    "Now, expanding this to three functions,\n",
    "\n",
    "$\n",
    "((f * g)*h)(t) = \\int_{0}^{t} (f*g)(s) h(t-s) ds = \\int_{s=0}^{t}(\\int_{u=0}^{t} f(s) g(s-u) du) h(t-s) ds\\\\\n",
    "= \\int_{s=0}^{t} \\int_{u=0}^{t} f(s) g(s-u)  h(t-s) du ds\\\\\n",
    "= \\int_{u=0}^{t} \\int_{s=0}^{t-u} f(u) g(s) h(t-s-u) ds du\\\\\n",
    "= \\int_{u=0}^{t} f(u) (\\int_{s=0}^{t-u}  g(s) h(t-u-s) ds) du\\\\\n",
    "= \\int_{u=0}^{t} f(u) (g*h) (t-u) du = (f*(g * h))(t)\n",
    "$\n",
    "\n",
    "Therefore, convolutions are associative."
   ]
  },
  {
   "cell_type": "markdown",
   "metadata": {},
   "source": [
    "Task 4: 2D Filtering"
   ]
  },
  {
   "cell_type": "code",
   "execution_count": 15,
   "metadata": {},
   "outputs": [
    {
     "name": "stdout",
     "output_type": "stream",
     "text": [
      "Task 4:\n",
      "-------------------------------------------------------------------------\n",
      "4a: Max Pixel Difference between Gaussian Blur and Filter2D = 171.29073770201367\n",
      "-------------------------------------------------------------------------\n",
      "4b: Max Pixel Difference between Gaussian Blur and SepFilter2D = 0.0\n",
      "-------------------------------------------------------------------------\n",
      "4c: Max Pixel Difference between Filter2D and SepFilter2D = 171.29073770201367\n",
      "-------------------------------------------------------------------------\n"
     ]
    }
   ],
   "source": [
    "print('Task 4:')\n",
    "\n",
    "sigma = 2 * math.sqrt(2)\n",
    "\n",
    "# 4a\n",
    "blurredImg = cv.GaussianBlur(grayImg, (3, 3), sigma)\n",
    "displayImg('Using Gaussian Blur', blurredImg)\n",
    "\n",
    "# 4b\n",
    "customGaussianKernel = computeGaussianKernel(5, sigma, sigma)\n",
    "customFilteredImg = cv.filter2D(grayImg, -1, customGaussianKernel)\n",
    "displayImg('Using Filter2d', customFilteredImg)\n",
    "\n",
    "# 4c\n",
    "gaussianKernel = cv.getGaussianKernel(3, sigma)\n",
    "filteredImg = cv.sepFilter2D(grayImg, -1, gaussianKernel, gaussianKernel)\n",
    "displayImg('Using SepFilter2d', filteredImg)\n",
    "\n",
    "diffGaussCustom = np.absolute(blurredImg - customFilteredImg)\n",
    "diffGaussSep = np.absolute(blurredImg - filteredImg)\n",
    "diffCustSep = np.absolute(customFilteredImg - filteredImg)\n",
    "\n",
    "print('-------------------------------------------------------------------------')\n",
    "print(\"4a: Max Pixel Difference between Gaussian Blur and Filter2D = \" + str(diffGaussCustom.max()*255))\n",
    "print('-------------------------------------------------------------------------')\n",
    "print(\"4b: Max Pixel Difference between Gaussian Blur and SepFilter2D = \" + str(diffGaussSep.max()*255))\n",
    "print('-------------------------------------------------------------------------')\n",
    "print(\"4c: Max Pixel Difference between Filter2D and SepFilter2D = \" + str(diffCustSep.max()*255))\n",
    "print('-------------------------------------------------------------------------')\n",
    "\n",
    "cv.destroyAllWindows()"
   ]
  },
  {
   "cell_type": "markdown",
   "metadata": {},
   "source": [
    "Task 5: Multiple Gaussian Filters"
   ]
  },
  {
   "cell_type": "code",
   "execution_count": 16,
   "metadata": {},
   "outputs": [
    {
     "name": "stdout",
     "output_type": "stream",
     "text": [
      "Task 5:\n",
      "-------------------------------------------------------------------------\n",
      "Max Pixel Difference between Filtered Image1 and Image2 = 2.3596084093372856\n"
     ]
    }
   ],
   "source": [
    "print('Task 5:')\n",
    "\n",
    "# 5a\n",
    "gaussianKernel = gaussianKernel = cv.getGaussianKernel(3, 2 * math.sqrt(2))\n",
    "gaussianKernel2 = cv.getGaussianKernel(3, 2)\n",
    "\n",
    "filteredImg1 = cv.filter2D(grayImg, -1, gaussianKernel2, gaussianKernel2)\n",
    "filteredImg1 = cv.filter2D(grayImg, -1, gaussianKernel2, gaussianKernel2)\n",
    "displayImg('Sigma=2', filteredImg1)\n",
    "\n",
    "# 5b\n",
    "filteredImg2 = cv.filter2D(grayImg, -1, gaussianKernel, gaussianKernel)\n",
    "displayImg('Sigma=2*sqrt(2)', filteredImg2)\n",
    "\n",
    "diffFilt1Filt2 = np.absolute(filteredImg1 - filteredImg2)\n",
    "print('-------------------------------------------------------------------------')\n",
    "print(\"Max Pixel Difference between Filtered Image1 and Image2 = \" + str(diffFilt1Filt2.max()*255))\n",
    "\n",
    "cv.destroyAllWindows()"
   ]
  },
  {
   "cell_type": "markdown",
   "metadata": {},
   "source": [
    "Task 6: Proof that convolution two times with a Gaussian kernel with standard deviation $\\sigma$ is the same as convolution once with a Gaussian kernel with standard deviation $\\sqrt{2}\\sigma$\n",
    "\n",
    "By definition, a gaussian functuon,\n",
    "\n",
    "$G_{\\sigma}(x) = \\frac{1}{\\sqrt{2\\pi\\sigma^2}}*e^{\\frac{-x^2}{2*\\sigma^2}}$\n",
    "\n",
    "Now, \n",
    "$\n",
    "(G{_\\sigma}*G_{\\sigma})(x) = \\int_{-\\infty}^{\\infty} G(x) G(x-u) du \\\\\n",
    "= \\int_{-\\infty}^{\\infty} \\frac{1}{\\sqrt{2\\pi\\sigma^2}}*e^{-\\frac{x^2}{2*\\sigma^2}}* \n",
    "\\frac{1}{\\sqrt{2\\pi\\sigma^2}}*e^{\\frac{-(x-u)^2}{2*\\sigma^2}}du\\\\\n",
    "= \\frac{1}{2\\pi\\sigma^2} \\int_{-\\infty}^{\\infty} e^{-\\frac{u^2+(x-u)^2}{2*\\sigma^2}}du\\\\\n",
    "= \\frac{1}{2\\pi\\sigma^2} \\int_{-\\infty}^{\\infty} e^{-\\frac{2u^2+x^2-2ux}{2*\\sigma^2}}du\\\\\n",
    "= \\frac{1}{2\\pi\\sigma^2} * e^{-\\frac{x^2}{2*\\sigma^2}} \\int_{-\\infty}^{\\infty} e^{-\\frac{u^2+ux}{\\sigma^2}}du\\\\\n",
    "= \\frac{1}{2\\pi\\sigma^2} * e^{-\\frac{x^2}{2*\\sigma^2}} \\int_{-\\infty}^{\\infty} e^{(-\\frac{u^2}{\\sigma^2}+\\frac{ux}{\\sigma^2}+0)}du\n",
    "$ -- (1)\n",
    "\n",
    "Now, we know, $\\int_{-\\infty}^{\\infty} e^{-Au^2+Bu+C} = \\sqrt{\\frac{\\pi}{A}}*e^{(\\frac{B^2}{4*A}+C)}$ --(2)\n",
    "\n",
    "Therefore, combining (1) and (2) we get,\n",
    "\n",
    "$\n",
    "(G_\\sigma*G_\\sigma)(x) = \\frac{1}{2\\pi\\sigma^2} * e^{-\\frac{x^2}{2*\\sigma^2}} \\sqrt{\\pi*\\sigma^2} * e^{-\\frac{x^2*\\sigma^2}{2*\\sigma^4}}\\\\\n",
    "= \\frac{1}{\\sqrt{2\\pi(\\sqrt{2}\\sigma)^2}} * e^{(-\\frac{x^2}{2*\\sigma^2})} * e^{-\\frac{x^2*}{(\\sqrt{2}*\\sigma)^2}}\n",
    "= G_{\\sqrt{2}\\sigma}(x)\n",
    "$"
   ]
  },
  {
   "cell_type": "markdown",
   "metadata": {},
   "source": [
    "Task 7: Denoising"
   ]
  },
  {
   "cell_type": "code",
   "execution_count": 17,
   "metadata": {},
   "outputs": [
    {
     "name": "stdout",
     "output_type": "stream",
     "text": [
      "Task 7:\n",
      "-------------------------------------------------------------------------\n",
      "7a: Difference between mean of Original and Gaussian Blur = 37.16636505943768\n",
      "-------------------------------------------------------------------------\n",
      "7b: Difference between mean of Original and Median Blur = 14.368437500000013\n",
      "-------------------------------------------------------------------------\n",
      "7c: Difference between mean of Original and Bilateral Filter = 34.835979166666675\n",
      "-------------------------------------------------------------------------\n"
     ]
    }
   ],
   "source": [
    "print('Task 7:')\n",
    "\n",
    "noisyImg = grayImg.copy()\n",
    "for y in range(rows):\n",
    "    for x in range(cols):\n",
    "        if np.random.sample() <= 0.3:\n",
    "            noisyImg[y, x] = np.random.choice([0, 1/255])\n",
    "cv.imshow('Salt and Pepper Noise', noisyImg)\n",
    "cv.waitKey(0)\n",
    "# print(np.absolute(noisyImg - grayImg).max())\n",
    "\n",
    "# 7a\n",
    "# gaussianKernel = cv.getGaussianKernel(3, 1)\n",
    "# smoothedGaussianImg = cv.sepFilter2D(noisyImg, -1, gaussianKernel, gaussianKernel)\n",
    "smoothedGaussianImg = cv.GaussianBlur(noisyImg, (5,5), 1)\n",
    "displayImg('Smoothed by Gaussian Kernel', smoothedGaussianImg)\n",
    "\n",
    "# 7b\n",
    "smoothedMedianImg = cv.medianBlur((noisyImg*255).astype('uint8'), 5)\n",
    "displayImg('Smoothed by Median Blur', smoothedMedianImg)\n",
    "\n",
    "# 7c\n",
    "smoothedBilateralImg = cv.bilateralFilter((noisyImg*255).astype('uint8'), 5, 127, 127)\n",
    "displayImg('Smoothed by Bilateral Blur', smoothedBilateralImg)\n",
    "\n",
    "diffOrigGauss = np.mean(grayImg*255) - np.mean(smoothedGaussianImg*255)\n",
    "diffOrigMedian = np.mean(grayImg*255) - np.mean(smoothedMedianImg)\n",
    "diffOrigBilat = np.mean(grayImg*255) - np.mean(smoothedBilateralImg)\n",
    "\n",
    "# Minimum difference results obtained for kernel size 5 x 5\n",
    "print('-------------------------------------------------------------------------')\n",
    "print(\"7a: Difference between mean of Original and Gaussian Blur = \" + str(diffOrigGauss))\n",
    "print('-------------------------------------------------------------------------')\n",
    "print(\"7b: Difference between mean of Original and Median Blur = \" + str(diffOrigMedian))\n",
    "print('-------------------------------------------------------------------------')\n",
    "print(\"7c: Difference between mean of Original and Bilateral Filter = \" + str(diffOrigBilat))\n",
    "print('-------------------------------------------------------------------------')\n",
    "\n",
    "cv.destroyAllWindows()"
   ]
  },
  {
   "cell_type": "markdown",
   "metadata": {},
   "source": [
    "Task 8: Separability of Filters"
   ]
  },
  {
   "cell_type": "code",
   "execution_count": 18,
   "metadata": {},
   "outputs": [
    {
     "name": "stdout",
     "output_type": "stream",
     "text": [
      "Task 8:\n"
     ]
    }
   ],
   "source": [
    "print('Task 8:')\n",
    "\n",
    "kernel1 = np.array(([0.0113, 0.0838, 0.0113],\n",
    "                    [0.0838, 0.6193, 0.0838],\n",
    "                    [0.0113, 0.0838, 0.0113]))\n",
    "\n",
    "kernel2 = np.array(([-0.8984, 0.1472, 1.1410],\n",
    "                    [-1.9075, 0.1566, 2.1359],\n",
    "                    [-0.8659, 0.0573, 1.0337]))\n",
    "\n",
    "filteredK1Img = cv.filter2D(grayImg, -1, kernel1)\n",
    "displayImg('Filtered by Custom Kernel 1', filteredK1Img)\n",
    "\n",
    "filteredK2Img = cv.filter2D(grayImg, -1, kernel2)\n",
    "displayImg('Filtered by Custom Kernel 2', filteredK2Img)\n",
    "\n",
    "filteredSepK1Img = separateFilter(kernel1, grayImg)\n",
    "displayImg('Filtered by Separated Custom Kernel 1', filteredSepK1Img)\n",
    "\n",
    "filteredSepK2Img = separateFilter(kernel2, grayImg)\n",
    "displayImg('Filtered by Separated Custom Kernel 2', filteredSepK1Img)\n",
    "\n",
    "cv.destroyAllWindows()"
   ]
  },
  {
   "cell_type": "code",
   "execution_count": null,
   "metadata": {},
   "outputs": [],
   "source": []
  }
 ],
 "metadata": {
  "kernelspec": {
   "display_name": "Python 3",
   "language": "python",
   "name": "python3"
  },
  "language_info": {
   "codemirror_mode": {
    "name": "ipython",
    "version": 3
   },
   "file_extension": ".py",
   "mimetype": "text/x-python",
   "name": "python",
   "nbconvert_exporter": "python",
   "pygments_lexer": "ipython3",
   "version": "3.6.5"
  }
 },
 "nbformat": 4,
 "nbformat_minor": 2
}
